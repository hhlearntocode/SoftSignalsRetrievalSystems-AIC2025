{
 "cells": [
  {
   "cell_type": "code",
   "execution_count": null,
   "id": "cd4ae2db",
   "metadata": {},
   "outputs": [],
   "source": [
    "from pathlib import Path\n",
    "import json"
   ]
  },
  {
   "cell_type": "code",
   "execution_count": null,
   "id": "122415b0",
   "metadata": {},
   "outputs": [],
   "source": [
    "VIDEO_DIR =  Path(\"video\")\n",
    "SCENE_DIR =  Path(\"scenes\")\n",
    "MAP_KEYFRAME_DIR =  Path(\"map-keyframes\")\n",
    "NEW_MAP_KEYFRAME_DIR =  Path(\"new-map-keyframes\")\n",
    "OUTPUT_DIR =  Path(\"keyframes\")\n",
    "VIDEO_CROPPED_DIR = Path(\"scenes-cropped\")"
   ]
  },
  {
   "cell_type": "code",
   "execution_count": null,
   "id": "f4b82271",
   "metadata": {},
   "outputs": [
    {
     "data": {
      "text/plain": [
       "'Videos_L21_a.zip'"
      ]
     },
     "execution_count": 1,
     "metadata": {},
     "output_type": "execute_result"
    }
   ],
   "source": [
    "video_urls = [\n",
    "    \"https://aic-data.ledo.io.vn/Videos_L21_a.zip\",\n",
    "    \"https://aic-data.ledo.io.vn/Videos_L22_a.zip\",\n",
    "    \"https://aic-data.ledo.io.vn/Videos_L23_a.zip\",\n",
    "    \"https://aic-data.ledo.io.vn/Videos_L24_a.zip\",\n",
    "    \"https://aic-data.ledo.io.vn/Videos_L25_a.zip\",\n",
    "    \"https://aic-data.ledo.io.vn/Videos_L25_a1.zip\",\n",
    "    \"https://aic-data.ledo.io.vn/Videos_L25_b.zip\",\n",
    "    \"https://aic-data.ledo.io.vn/Videos_L26_a.zip\",\n",
    "    \"https://aic-data.ledo.io.vn/Videos_L26_b.zip\",\n",
    "    \"https://aic-data.ledo.io.vn/Videos_L26_c.zip\",\n",
    "    \"https://aic-data.ledo.io.vn/Videos_L26_d.zip\",\n",
    "    \"https://aic-data.ledo.io.vn/Videos_L26_e.zip\",\n",
    "    \"https://aic-data.ledo.io.vn/Videos_L27_a.zip\",\n",
    "    \"https://aic-data.ledo.io.vn/Videos_L28_a.zip\",\n",
    "    \"https://aic-data.ledo.io.vn/Videos_L29_a.zip\",\n",
    "    \"https://aic-data.ledo.io.vn/Videos_L30_a.zip\"\n",
    "]"
   ]
  },
  {
   "cell_type": "code",
   "execution_count": null,
   "id": "e3651ffb",
   "metadata": {},
   "outputs": [],
   "source": [
    "import subprocess\n",
    "from tqdm import tqdm\n",
    "\n",
    "for video_url in tqdm(video_urls):\n",
    "    subprocess.run([\"wget\", video_url], stdout=subprocess.DEVNULL, stderr=subprocess.DEVNULL)\n",
    "    subprocess.run([\"unzip\", f\"{video_url.split('/')[-1]}\"], stdout=subprocess.DEVNULL, stderr=subprocess.DEVNULL)\n",
    "    subprocess.run([\"rm\", f\"{video_url.split('/')[-1]}\"], stdout=subprocess.DEVNULL, stderr=subprocess.DEVNULL)"
   ]
  },
  {
   "cell_type": "code",
   "execution_count": null,
   "id": "5541cf74",
   "metadata": {},
   "outputs": [],
   "source": [
    "videos = {}\n",
    "\n",
    "for video_path in VIDEO_DIR.glob(\"*.mp4\"):\n",
    "    videos[video_path.stem] = str(video_path)"
   ]
  },
  {
   "cell_type": "code",
   "execution_count": null,
   "id": "fa5178ec",
   "metadata": {},
   "outputs": [],
   "source": [
    "video_scenes = []\n",
    "\n",
    "for video_dir in SCENE_DIR.iterdir():\n",
    "    video_id = video_dir.stem\n",
    "    scenes = []\n",
    "    for scene in video_dir.glob(\"*.scenes.txt\"):\n",
    "        \"\"\"\n",
    "        The file looks like this:\n",
    "            0 8\n",
    "            9 53\n",
    "            54 342\n",
    "            343 410\n",
    "            411 457\n",
    "            458 509\n",
    "            510 564\n",
    "            565 611\n",
    "            612 660\n",
    "        \"\"\"\n",
    "        with open(scene, \"r\") as f:\n",
    "            for line in f:\n",
    "                start, end = map(int, line.split())\n",
    "                scenes.append((start, end))\n",
    "    video_scenes.append({\n",
    "        \"video_id\": video_id,\n",
    "        \"scenes\": scenes,\n",
    "    })\n"
   ]
  },
  {
   "cell_type": "code",
   "execution_count": null,
   "id": "f7804b2a",
   "metadata": {},
   "outputs": [
    {
     "ename": "",
     "evalue": "",
     "output_type": "error",
     "traceback": [
      "\u001b[1;31mRunning cells with '.venv (Python 3.11.9)' requires the ipykernel package.\n",
      "\u001b[1;31mInstall 'ipykernel' into the Python environment. \n",
      "\u001b[1;31mCommand: 'd:/.competitions/SoftSignalsRetrievalSystems-AIC2025/.venv/Scripts/python.exe -m pip install ipykernel -U --force-reinstall'"
     ]
    }
   ],
   "source": [
    "import cv2\n",
    "import subprocess\n",
    "import os\n",
    "\n",
    "def get_fps(video_path) -> float:\n",
    "    cap = cv2.VideoCapture(str(video_path))\n",
    "    fps = cap.get(cv2.CAP_PROP_FPS)\n",
    "    cap.release()\n",
    "    return fps\n",
    "\n",
    "def crop_video(input_path: str, output_folder: str, scenes: list[tuple[int, int]]):\n",
    "    fps = get_fps(input_path)\n",
    "    for i, scene in enumerate(scenes):\n",
    "        start_f, end_f = scene\n",
    "\n",
    "        start_time = start_f / fps\n",
    "        end_time = end_f / fps\n",
    "        output_path = os.path.join(output_folder, f\"{i}.mp4\")\n",
    "        duration = (end_f - start_f + 1) / fps\n",
    "\n",
    "        cmd = [\n",
    "            \"ffmpeg\",\"-hide_banner\",\"-nostdin\",\"-loglevel\",\"error\",\"-stats\",\n",
    "            \"-threads\",\"1\",                # cap CPU usage\n",
    "            \"-ss\", f\"{start_time:.6f}\",\n",
    "            \"-i\", str(input_path),\n",
    "            \"-t\", f\"{duration:.6f}\",\n",
    "            \"-map\",\"0:v:0\",\"-map\",\"0:a?\",\n",
    "            \"-c:v\",\"libx264\",\"-pix_fmt\",\"yuv420p\",\n",
    "            \"-preset\",\"veryfast\",\"-crf\",\"23\",\n",
    "            \"-c:a\",\"aac\",\n",
    "            str(output_path)\n",
    "        ]\n",
    "\n",
    "        subprocess.run(cmd, stdout=subprocess.DEVNULL, stderr=subprocess.DEVNULL)"
   ]
  },
  {
   "cell_type": "code",
   "execution_count": null,
   "id": "7a54ee3f",
   "metadata": {},
   "outputs": [],
   "source": []
  }
 ],
 "metadata": {
  "kernelspec": {
   "display_name": ".venv",
   "language": "python",
   "name": "python3"
  },
  "language_info": {
   "codemirror_mode": {
    "name": "ipython",
    "version": 3
   },
   "file_extension": ".py",
   "mimetype": "text/x-python",
   "name": "python",
   "nbconvert_exporter": "python",
   "pygments_lexer": "ipython3",
   "version": "3.11.9"
  }
 },
 "nbformat": 4,
 "nbformat_minor": 5
}
